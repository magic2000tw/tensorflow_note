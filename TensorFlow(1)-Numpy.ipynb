{
 "cells": [
  {
   "cell_type": "markdown",
   "metadata": {},
   "source": [
    "numpy\n",
    "=============================\n",
    "  - python 矩陣(科學)運算工具\n",
    "  - 資料分析、處理非常方便\n",
    "  - 有名資料分析、機器學習工具如pandas、tensorflow、pytorch皆有支援numpy物件輸入\n",
    "  - [API](https://docs.scipy.org/doc/numpy-1.13.0/reference/)"
   ]
  },
  {
   "cell_type": "markdown",
   "metadata": {
    "collapsed": true
   },
   "source": [
    "## 基本矩陣資訊\n",
    "* ndarray.ndim\n",
    "> the number of axes (dimensions) of the array. In the Python world, the number of dimensions is referred to as rank.\n",
    "陣列的維度\n",
    "* ndarray.shape\n",
    "> the dimensions of the array. This is a tuple of integers indicating the size of the array in each dimension. For a matrix with n rows and m columns, shape will be (n,m). The length of the shape tuple is therefore the rank, or number of dimensions, ndim.\n",
    "幾乘幾的陣列\n",
    "* ndarray.size\n",
    "> the total number of elements of the array. This is equal to the product of the elements of shape.\n",
    "陣列的元素個數\n",
    "* ndarray.dtype\n",
    "> an object describing the type of the elements in the array. One can create or specify dtype’s using standard Python types. Additionally NumPy provides types of its own. numpy.int32, numpy.int16, and numpy.float64 are some examples.\n",
    "矩陣裡的資料型態\n",
    "* ndarray.itemsize\n",
    "> the size in bytes of each element of the array. For example, an array of elements of type float64 has itemsize 8 (=64/8), while one of type complex32 has itemsize 4 (=32/8). It is equivalent to ndarray.dtype.itemsize.\n",
    "矩陣每個元素佔多少byte "
   ]
  },
  {
   "cell_type": "code",
   "execution_count": 2,
   "metadata": {
    "collapsed": true
   },
   "outputs": [],
   "source": [
    "import numpy as np"
   ]
  },
  {
   "cell_type": "code",
   "execution_count": 13,
   "metadata": {},
   "outputs": [
    {
     "data": {
      "text/plain": [
       "array([[1, 2],\n",
       "       [3, 4],\n",
       "       [5, 6]])"
      ]
     },
     "execution_count": 13,
     "metadata": {},
     "output_type": "execute_result"
    }
   ],
   "source": [
    "a = np.array([[1,2],[3,4],[5,6]])\n",
    "a"
   ]
  },
  {
   "cell_type": "code",
   "execution_count": 14,
   "metadata": {},
   "outputs": [
    {
     "name": "stdout",
     "output_type": "stream",
     "text": [
      "ndim =  2\n",
      "shape =  (3, 2)\n",
      "dtype =  int32\n",
      "itemsize =  4\n"
     ]
    }
   ],
   "source": [
    "print('ndim = ',a.ndim)\n",
    "print('shape = ',a.shape)\n",
    "print('dtype = ',a.dtype)\n",
    "print('itemsize = ',a.itemsize)"
   ]
  },
  {
   "cell_type": "markdown",
   "metadata": {},
   "source": [
    "## 矩陣宣告、製作"
   ]
  },
  {
   "cell_type": "code",
   "execution_count": 26,
   "metadata": {},
   "outputs": [
    {
     "name": "stdout",
     "output_type": "stream",
     "text": [
      "b:\n",
      " [ 0  1  2  3  4  5  6  7  8  9 10 11 12 13 14]\n",
      "c:\n",
      " [[ 0  1  2  3  4]\n",
      " [ 5  6  7  8  9]\n",
      " [10 11 12 13 14]]\n",
      "d:\n",
      " [[[ 0.  0.  0.]\n",
      "  [ 0.  0.  0.]\n",
      "  [ 0.  0.  0.]]\n",
      "\n",
      " [[ 0.  0.  0.]\n",
      "  [ 0.  0.  0.]\n",
      "  [ 0.  0.  0.]]\n",
      "\n",
      " [[ 0.  0.  0.]\n",
      "  [ 0.  0.  0.]\n",
      "  [ 0.  0.  0.]]]\n",
      "e:\n",
      " [[ 1.  1.]\n",
      " [ 1.  1.]]\n"
     ]
    }
   ],
   "source": [
    "b = np.arange(15) #arange(15) => 產生1*15陣列，值為0~14\n",
    "c = b.reshape(3,5)#reshape(a,b,c,...) =>把矩陣變成 a*b*c*...\n",
    "d = np.zeros([3,3,3])#np.zeros(dim) =>產生宣告維度的矩陣，值為0\n",
    "e = np.ones([2,2])#np.zeros(dim) =>產生宣告維度的矩陣，值為1\n",
    "       \n",
    "       \n",
    "print('b:\\n',b)\n",
    "print('c:\\n',c)\n",
    "print('d:\\n',d)\n",
    "print('e:\\n',e)"
   ]
  },
  {
   "cell_type": "markdown",
   "metadata": {},
   "source": [
    "## 矩陣取值，切割(indexing)"
   ]
  },
  {
   "cell_type": "code",
   "execution_count": 130,
   "metadata": {},
   "outputs": [
    {
     "name": "stdout",
     "output_type": "stream",
     "text": [
      "dim: (3, 3)\n",
      "f:\n",
      " [[0 1 2]\n",
      " [3 4 5]\n",
      " [6 7 8]]\n",
      "f1,1: 0\n",
      "f11~f31: [0 3 6]\n",
      "f11~f13: [0 1 2]\n",
      "f11~f12: [3 4]\n"
     ]
    }
   ],
   "source": [
    "f = np.arange(9).reshape(3,3)\n",
    "print('dim:',f.shape)\n",
    "print('f:\\n',f)\n",
    "print('f1,1:',f[0,0])\n",
    "print('f11~f31:',f[0:,0])\n",
    "print('f11~f13:',f[0,0:])\n",
    "print('f11~f12:',f[1,:2])"
   ]
  },
  {
   "cell_type": "markdown",
   "metadata": {},
   "source": [
    "## 矩陣運算"
   ]
  },
  {
   "cell_type": "code",
   "execution_count": 94,
   "metadata": {},
   "outputs": [
    {
     "name": "stdout",
     "output_type": "stream",
     "text": [
      "g:\n",
      " [[ 0.  0.]\n",
      " [ 0.  0.]]\n",
      "g+1\n",
      " [[ 1.  1.]\n",
      " [ 1.  1.]]\n",
      "(g+1)*4:\n",
      " [[ 4.  4.]\n",
      " [ 4.  4.]]\n",
      "(g+1)*4/2:\n",
      " [[ 2.  2.]\n",
      " [ 2.  2.]]\n",
      "h:\n",
      " [[1 2]\n",
      " [3 4]]\n",
      "g * h:\n",
      " [[ 1.  2.]\n",
      " [ 3.  4.]]\n",
      "g X h:\n",
      " [[ 4.  6.]\n",
      " [ 4.  6.]]\n"
     ]
    }
   ],
   "source": [
    "g = np.zeros([2,2])\n",
    "g1 = np.ones([2,2])\n",
    "i = np.array([[0,1],\n",
    "              [0,0]])\n",
    "h1 = g * h  #相對位置相乘\n",
    "h2 = g.dot(h) #或是寫np.dot(h2,g1)\n",
    "print('g:\\n',g)\n",
    "print('g+1\\n',g + 1)\n",
    "print('(g+1)*4:\\n',(g+1)*4)\n",
    "print('(g+1)*4/2:\\n',(g+1)*4/2)\n",
    "print('h:\\n',h)\n",
    "print('g * h:\\n',g1*h)\n",
    "print('g X h:\\n',np.dot(g1,h))"
   ]
  },
  {
   "cell_type": "markdown",
   "metadata": {},
   "source": [
    "## 內建運算function"
   ]
  },
  {
   "cell_type": "code",
   "execution_count": 103,
   "metadata": {},
   "outputs": [
    {
     "name": "stdout",
     "output_type": "stream",
     "text": [
      "e(i):\n",
      " [[  1.           2.71828183]\n",
      " [  7.3890561   20.08553692]]\n",
      "e(j):\n",
      " 2.71828182846\n",
      "log(j):\n",
      " 0.0\n",
      "squre(i):\n",
      " [[ 0.          1.        ]\n",
      " [ 1.41421356  1.73205081]]\n"
     ]
    }
   ],
   "source": [
    "i = np.array([[0,1],[2,3]])\n",
    "j = 1\n",
    "print('e(i):\\n',np.exp(i))\n",
    "print('e(j):\\n',np.exp(j))\n",
    "print('log(j):\\n',np.log(j))\n",
    "print('squre(i):\\n',np.sqrt(i))"
   ]
  },
  {
   "cell_type": "markdown",
   "metadata": {},
   "source": [
    "## 矩陣處理\n",
    "- 轉置 transpose\n",
    "- 單位矩陣 I\n",
    "- trace\n",
    "- 反矩陣 inverse\n",
    "- 線性解 solve\n",
    "- [特徵向量 eigenvalues](http://silverwind1982.pixnet.net/blog/post/154593170-%E7%89%B9%E5%BE%B5%E5%90%91%E9%87%8F%28eigenvector%29-%E5%8F%8A-%E7%89%B9%E5%BE%B5%E5%80%BC%28eigenvalue%29-%E7%9A%84%E5%AE%9A)"
   ]
  },
  {
   "cell_type": "code",
   "execution_count": 137,
   "metadata": {},
   "outputs": [
    {
     "name": "stdout",
     "output_type": "stream",
     "text": [
      "k:\n",
      " [[ 1.  2.]\n",
      " [ 3.  4.]]\n",
      "KT:\n",
      " [[ 1.  3.]\n",
      " [ 2.  4.]]\n",
      "2X2 I:\n",
      " [[ 1.  0.]\n",
      " [ 0.  1.]]\n",
      "Trace k:\n",
      " 5.0\n",
      "Inverse k:\n",
      " [[-2.   1. ]\n",
      " [ 1.5 -0.5]]\n",
      "Solve kx = y :\n",
      " [-3.  4.]\n",
      "Eigenvalues k:\n",
      " (array([-0.37228132,  5.37228132]), array([[-0.82456484, -0.41597356],\n",
      "       [ 0.56576746, -0.90937671]]))\n"
     ]
    }
   ],
   "source": [
    "k = np.array([[1.0, 2.0], [3.0, 4.0]])\n",
    "y = np.array([5.0, 7.0])\n",
    "print('k:\\n',k)\n",
    "print('KT:\\n',k.transpose())\n",
    "print('2X2 I:\\n',np.eye(2,2))\n",
    "print('Trace k:\\n',np.trace(k))\n",
    "print('Inverse k:\\n',np.linalg.inv(k))\n",
    "print('Solve kx = y :\\n',np.linalg.solve(k,y))\n",
    "print('Eigenvalues k:\\n',np.linalg.eig(k))"
   ]
  },
  {
   "cell_type": "markdown",
   "metadata": {
    "collapsed": true
   },
   "source": [
    "### 其他進階功能\n",
    "- 邏輯運算"
   ]
  },
  {
   "cell_type": "code",
   "execution_count": 121,
   "metadata": {},
   "outputs": [
    {
     "name": "stdout",
     "output_type": "stream",
     "text": [
      "k:\n",
      " [[ 0  1  2  3  4]\n",
      " [ 5  6  7  8  9]\n",
      " [10 11 12 13 14]]\n",
      "if k > 6:\n",
      " [[False False False False False]\n",
      " [False False  True  True  True]\n",
      " [ True  True  True  True  True]]\n",
      "l or 1:\n",
      " [[1 1]\n",
      " [1 1]]\n",
      "l and 0:\n",
      " [[0 0]\n",
      " [0 0]]\n",
      "l xor 0:\n",
      " [[0 1]\n",
      " [1 0]]\n",
      "l not:\n",
      " [[ True False]\n",
      " [False  True]]\n"
     ]
    }
   ],
   "source": [
    "l = np.arange(15).reshape([3,5])\n",
    "m = np.array([[0,1],\n",
    "              [1,0]])\n",
    "print('k:\\n',k)\n",
    "print('if k > 6:\\n',k > 6)\n",
    "print('l or 1:\\n',l | 1)\n",
    "print('l and 0:\\n',l & 0)\n",
    "print('l xor 0:\\n',l ^ 0)\n",
    "print('l not:\\n',np.logical_not(l))"
   ]
  },
  {
   "cell_type": "code",
   "execution_count": null,
   "metadata": {
    "collapsed": true
   },
   "outputs": [],
   "source": []
  }
 ],
 "metadata": {
  "kernelspec": {
   "display_name": "Python 3",
   "language": "python",
   "name": "python3"
  },
  "language_info": {
   "codemirror_mode": {
    "name": "ipython",
    "version": 3
   },
   "file_extension": ".py",
   "mimetype": "text/x-python",
   "name": "python",
   "nbconvert_exporter": "python",
   "pygments_lexer": "ipython3",
   "version": "3.6.1"
  }
 },
 "nbformat": 4,
 "nbformat_minor": 2
}
